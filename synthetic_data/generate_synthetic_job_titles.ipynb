{
 "cells": [
  {
   "cell_type": "code",
   "execution_count": 1,
   "metadata": {},
   "outputs": [],
   "source": [
    "import sys\n",
    "import os"
   ]
  },
  {
   "cell_type": "code",
   "execution_count": 2,
   "metadata": {},
   "outputs": [],
   "source": [
    "import pandas as pd\n",
    "import numpy as np"
   ]
  },
  {
   "cell_type": "code",
   "execution_count": 3,
   "metadata": {},
   "outputs": [],
   "source": [
    "# Either hard code your path to the project, or set it as an environment variable\n",
    "# build_project_path = os.environ['BUILD_PROJECT_PATH']"
   ]
  },
  {
   "cell_type": "code",
   "execution_count": 4,
   "metadata": {},
   "outputs": [],
   "source": [
    "import os\n",
    "os.environ['BUILD_PROJECT_PATH'] = r'C:\\Users\\L110006\\OneDrive - Eli Lilly and Company\\personal files\\build project'\n",
    "build_project_path = os.environ['BUILD_PROJECT_PATH']"
   ]
  },
  {
   "cell_type": "code",
   "execution_count": 5,
   "metadata": {},
   "outputs": [
    {
     "name": "stdout",
     "output_type": "stream",
     "text": [
      "C:\\Users\\L110006\\OneDrive - Eli Lilly and Company\\personal files\\build project\\fine-tuning-build-project\\synthetic_data\n",
      "C:\\Users\\L110006\\OneDrive - Eli Lilly and Company\\personal files\\build project\\fine-tuning-build-project\\synthetic_data\\data\n"
     ]
    }
   ],
   "source": [
    "synthetic_data_path = os.path.join(build_project_path, 'fine-tuning-build-project','synthetic_data')\n",
    "print(synthetic_data_path)\n",
    "data_path = os.path.join(synthetic_data_path, 'data')\n",
    "print(data_path)"
   ]
  },
  {
   "cell_type": "code",
   "execution_count": 6,
   "metadata": {},
   "outputs": [],
   "source": [
    "if synthetic_data_path not in sys.path:\n",
    "    sys.path.append(synthetic_data_path)"
   ]
  },
  {
   "cell_type": "code",
   "execution_count": 7,
   "metadata": {},
   "outputs": [
    {
     "name": "stdout",
     "output_type": "stream",
     "text": [
      "Defaulting to user installation because normal site-packages is not writeable\n",
      "Requirement already satisfied: openai in c:\\users\\l110006\\appdata\\local\\packages\\pythonsoftwarefoundation.python.3.13_qbz5n2kfra8p0\\localcache\\local-packages\\python313\\site-packages (1.98.0)\n",
      "Requirement already satisfied: anyio<5,>=3.5.0 in c:\\users\\l110006\\appdata\\local\\packages\\pythonsoftwarefoundation.python.3.13_qbz5n2kfra8p0\\localcache\\local-packages\\python313\\site-packages (from openai) (4.9.0)\n",
      "Requirement already satisfied: distro<2,>=1.7.0 in c:\\users\\l110006\\appdata\\local\\packages\\pythonsoftwarefoundation.python.3.13_qbz5n2kfra8p0\\localcache\\local-packages\\python313\\site-packages (from openai) (1.9.0)\n",
      "Requirement already satisfied: httpx<1,>=0.23.0 in c:\\users\\l110006\\appdata\\local\\packages\\pythonsoftwarefoundation.python.3.13_qbz5n2kfra8p0\\localcache\\local-packages\\python313\\site-packages (from openai) (0.28.1)\n",
      "Requirement already satisfied: jiter<1,>=0.4.0 in c:\\users\\l110006\\appdata\\local\\packages\\pythonsoftwarefoundation.python.3.13_qbz5n2kfra8p0\\localcache\\local-packages\\python313\\site-packages (from openai) (0.10.0)\n",
      "Requirement already satisfied: pydantic<3,>=1.9.0 in c:\\users\\l110006\\appdata\\local\\packages\\pythonsoftwarefoundation.python.3.13_qbz5n2kfra8p0\\localcache\\local-packages\\python313\\site-packages (from openai) (2.11.7)\n",
      "Requirement already satisfied: sniffio in c:\\users\\l110006\\appdata\\local\\packages\\pythonsoftwarefoundation.python.3.13_qbz5n2kfra8p0\\localcache\\local-packages\\python313\\site-packages (from openai) (1.3.1)\n",
      "Requirement already satisfied: tqdm>4 in c:\\users\\l110006\\appdata\\local\\packages\\pythonsoftwarefoundation.python.3.13_qbz5n2kfra8p0\\localcache\\local-packages\\python313\\site-packages (from openai) (4.67.1)\n",
      "Requirement already satisfied: typing-extensions<5,>=4.11 in c:\\users\\l110006\\appdata\\local\\packages\\pythonsoftwarefoundation.python.3.13_qbz5n2kfra8p0\\localcache\\local-packages\\python313\\site-packages (from openai) (4.14.1)\n",
      "Requirement already satisfied: idna>=2.8 in c:\\users\\l110006\\appdata\\local\\packages\\pythonsoftwarefoundation.python.3.13_qbz5n2kfra8p0\\localcache\\local-packages\\python313\\site-packages (from anyio<5,>=3.5.0->openai) (3.10)\n",
      "Requirement already satisfied: certifi in c:\\users\\l110006\\appdata\\local\\packages\\pythonsoftwarefoundation.python.3.13_qbz5n2kfra8p0\\localcache\\local-packages\\python313\\site-packages (from httpx<1,>=0.23.0->openai) (2025.7.14)\n",
      "Requirement already satisfied: httpcore==1.* in c:\\users\\l110006\\appdata\\local\\packages\\pythonsoftwarefoundation.python.3.13_qbz5n2kfra8p0\\localcache\\local-packages\\python313\\site-packages (from httpx<1,>=0.23.0->openai) (1.0.9)\n",
      "Requirement already satisfied: h11>=0.16 in c:\\users\\l110006\\appdata\\local\\packages\\pythonsoftwarefoundation.python.3.13_qbz5n2kfra8p0\\localcache\\local-packages\\python313\\site-packages (from httpcore==1.*->httpx<1,>=0.23.0->openai) (0.16.0)\n",
      "Requirement already satisfied: annotated-types>=0.6.0 in c:\\users\\l110006\\appdata\\local\\packages\\pythonsoftwarefoundation.python.3.13_qbz5n2kfra8p0\\localcache\\local-packages\\python313\\site-packages (from pydantic<3,>=1.9.0->openai) (0.7.0)\n",
      "Requirement already satisfied: pydantic-core==2.33.2 in c:\\users\\l110006\\appdata\\local\\packages\\pythonsoftwarefoundation.python.3.13_qbz5n2kfra8p0\\localcache\\local-packages\\python313\\site-packages (from pydantic<3,>=1.9.0->openai) (2.33.2)\n",
      "Requirement already satisfied: typing-inspection>=0.4.0 in c:\\users\\l110006\\appdata\\local\\packages\\pythonsoftwarefoundation.python.3.13_qbz5n2kfra8p0\\localcache\\local-packages\\python313\\site-packages (from pydantic<3,>=1.9.0->openai) (0.4.1)\n",
      "Requirement already satisfied: colorama in c:\\users\\l110006\\appdata\\local\\packages\\pythonsoftwarefoundation.python.3.13_qbz5n2kfra8p0\\localcache\\local-packages\\python313\\site-packages (from tqdm>4->openai) (0.4.6)\n",
      "Note: you may need to restart the kernel to use updated packages.\n"
     ]
    }
   ],
   "source": [
    "pip install openai"
   ]
  },
  {
   "cell_type": "code",
   "execution_count": 8,
   "metadata": {},
   "outputs": [
    {
     "name": "stdout",
     "output_type": "stream",
     "text": [
      "[{'role': 'system', 'content': 'You are an expert in recruitment, staffing and HR.'}, {'role': 'user', 'content': 'Your task is to generate \\'in-the-wild\\' job posting titles for given \\'clean\\' job titles. The \\'in-the-wild\\' titles should resemble real-world job postings as seen on sites like LinkedIn or company websites. These titles may include additional words, phrases, or abbreviations that are unnecessary or irrelevant to classifying the job into a standard taxonomy.\\n\\n**Instructions:**\\nor this list of \\'clean\\' job titles, generate a list of 2 \\'in-the-wild\\' job titles for each.\\n\\nIt is important to:\\n\\n- Format your responses consistently (within and between queries)\\n- Vary the sentence structure/order, length, and additional information in the \\'in-the-wild\\' titles.\\n- Rarely include a company name, and if you do, choose an appropriate real company.\\n- You may include locations, departments, or sectors (e.g., \"East Coast Operations\", \"Global Data Strategy\") infrequently.\\n- Use a variety of punctuation\\n- Be imaginative! \\n\\n<query>\\n1. `Office Coordinator`\\n2. `Physical Therapy Assistant`\\n3. `Product Manager`\\n4. `Software Engineer`\\n5. `Teacher Aide`\\n6. `Teller`\\n7. `Machine Operator`\\n8. `Licensed Vocational Nurse`\\n9. `Sales Professional`\\n10. `Benefits Specialist`\\n11. `Marketing Manager`\\n12. `Credit Risk Expert`\\n13. `Network Architect`\\n14. `Registered Nurse`\\n15. `Fluid Dynamics Scientist`\\n16. `Lawyer`\\n17. `Machine Learning Engineer`\\n18. `Market Research Analyst`\\n19. `Systems Admin`\\n20. `Valet`\\n</query>'}, {'role': 'assistant', 'content': '<response>\\n1. [`Lead Office Coordinator - Casey Kalbs Territory`, `Senior Office Coordinator - Corporate Headquarters`]\\n2. [`Travel Long Term Care Physical Therapy Assistant - $1980 per week`, `Physical Therapy Assistant (PTA) - Full-Time, Acute Care Hospital`]\\n3. [`Product Manager (Wire Transfers & Instant Payments) - Commercial`, `Senior Product Manager - Mobile Apps`]\\n4. [`Principal Field Performance Software Engineer US Remote`, `Exciting Opportunity: Software Engineer Needed for Innovative Projects (Remote)`]\\n5. [`Infant/Toddler Teacher Aide PT- Educare Center`, `Join Our Team as a Teacher Aide - Elementary School (Full-Time)`]\\n6. [`Full Time Teller (Bilingual Preferred) - Harmony Branch Fort Collins, CO`, `Immediate Opening: Teller Position at Main Street Branch (Bilingual a Plus)`]\\n7. [`Entry Level Composites Machine Operator - 2nd Shift - Waukesha, WI`, `Machine Operator Wanted - No Experience Necessary (Training Provided)`]\\n8. [`Hiring LVN | $37/hr + Night Shift | Claim Your Shift!`, `Licensed Vocational Nurse (LVN) Needed - Flexible Shifts Available`]\\n9. [`Home Comfort Advisor / Outside Sales Professional`, `Sales Professional - High-Earning Potential in Home Services`]\\n10. [`HR Assistant, Workers Comp and Benefits Specialist - Bilingual (Spanish/English)`, `Benefits Specialist Position - Join Our HR Team Today! (Bilingual Preferred)`]\\n11. [`Vice President, Global Marketing - Obesity`, `Marketing Manager - Lead National Campaigns (Healthcare Industry)`]\\n12. [`Platform Solutions - Assistant Vice President - Credit Risk Strategy - Delaware/Dallas`, `Credit Risk Expert Wanted - Senior Role in Financial Services`]\\n13. [`Associate Director - Global Network Services Architect`, `Network Architect Opportunity - Shape Our Global Infrastructure`]\\n14. [`Staff Registered Nurse (RN) - Montgomery, OH _Up to $3,000 Sign-On Bonus_`, `Registered Nurse Positions Available - Sign-On Bonus Offered`]\\n15. [`Motorsports Computational Fluid Dynamics Senior Methods Developer`, `Fluid Dynamics Scientist - Cutting-Edge Research in Engineering`]\\n16. [`Senior Counsel, Product - Trademark & Brand Protection`, `Experienced Lawyer Needed - Intellectual Property & Trademark`]\\n17. [`Senior Machine Learning Engineer, User Listing Marketplace Intelligence`, `Machine Learning Engineer - Impactful AI Projects (Join Us)`]\\n18. [`AVP, Analytics - Health & Wellness Pet Market Expansion`, `Market Research Analyst - Exciting Opportunity in Pet Industry`]\\n19. [`5 POSITIONS - W-2 (No C2C) Cisco Network Systems Admin (Swing & Graveyard)`, `Systems Administrator - Join Our Night Operations Team (Multiple Openings)`]\\n20. [`Dealership Valet, Service Porter, Greeter in Round Rock at $15/hour - Weekly Pay!`, `Valet Positions Available - Great Pay Plus Tips (Apply Now)`]\\n</response>'}, {'role': 'user', 'content': \"That's great!\\n\\nNow please do the same for these query titles, but this time generating 5 'in-the-wild titles' per 'clean' title:\\n\\n<query>\\n1. `Layout Technician (Layout Tech)`\\n2. `Broadcast Meteorologist`\\n3. `Early Childhood Teacher`\\n4. `Solar Energy Technician`\\n5. `Laser Engineer`\\n</query>\"}]\n"
     ]
    },
    {
     "name": "stderr",
     "output_type": "stream",
     "text": [
      "C:\\Users\\L110006\\OneDrive - Eli Lilly and Company\\personal files\\build project\\fine-tuning-build-project\\synthetic_data\\llm_requests.py:8: TqdmExperimentalWarning: Using `tqdm.autonotebook.tqdm` in notebook mode. Use `tqdm.tqdm` instead to force console mode (e.g. in jupyter console)\n",
      "  from tqdm.autonotebook import tqdm, trange\n"
     ]
    }
   ],
   "source": [
    "from llm_requests import generate_prompt\n",
    "\n",
    "seed_titles_df = pd.read_csv(os.path.join(data_path, 'seed_titles.csv'))\n",
    "\n",
    "seed_titles = seed_titles_df['seed_title'].unique()\n",
    "\n",
    "example_seed_titles = np.random.choice(seed_titles, 5)\n",
    "\n",
    "example_prompt = generate_prompt(example_seed_titles)\n",
    "print(example_prompt)"
   ]
  },
  {
   "cell_type": "markdown",
   "metadata": {},
   "source": [
    "<h3>Experiment with different models and see how they compare!</h3>"
   ]
  },
  {
   "cell_type": "code",
   "execution_count": 9,
   "metadata": {},
   "outputs": [],
   "source": [
    "model_name = 'Meta-Llama-3.3-70B-Instruct'\n",
    "# model_name = 'Meta-Llama-3.1-405B-Instruct'"
   ]
  },
  {
   "cell_type": "code",
   "execution_count": 10,
   "metadata": {},
   "outputs": [],
   "source": [
    "#import os\n",
    "#\n",
    "##os.environ[\"SAMBANOVA_API_KEY\"] = \"8841f010-0daa-4701-bdaf-89937409bac7\"\n",
    "#os.environ[\"SAMBANOVA_API_KEY\"] = \"829993a9-ff57-414c-912d-58212968888b\""
   ]
  },
  {
   "cell_type": "code",
   "execution_count": 11,
   "metadata": {},
   "outputs": [],
   "source": [
    "from llm_requests import get_client\n",
    "\n",
    "client = get_client()"
   ]
  },
  {
   "cell_type": "code",
   "execution_count": 12,
   "metadata": {},
   "outputs": [],
   "source": [
    "from llm_requests import async_make_api_call\n",
    "\n",
    "example_response = await async_make_api_call(client, model_name, example_prompt, perturbation_std=0.1)"
   ]
  },
  {
   "cell_type": "code",
   "execution_count": 13,
   "metadata": {},
   "outputs": [],
   "source": [
    "from gpt_parsing import parse_gpt_response\n",
    "\n",
    "parsed_output = parse_gpt_response(example_response.choices[0].message.content, 5, 5)"
   ]
  },
  {
   "cell_type": "code",
   "execution_count": 14,
   "metadata": {},
   "outputs": [
    {
     "name": "stdout",
     "output_type": "stream",
     "text": [
      "Variations of: Layout Technician (Layout Tech):\n",
      "-------------------\n",
      "1: Layout Technician (CAD Design) - Architecture Firm\n",
      "2: Entry-Level Layout Tech - Furniture Manufacturing\n",
      "3: Senior Layout Technician - Industrial Automation\n",
      "4: Layout Tech - Mechanical Engineering (Temporary Position)\n",
      "5: Technical Layout Specialist - Exhibits and Displays\n",
      "\n",
      "\n",
      "\n",
      "Variations of: Broadcast Meteorologist:\n",
      "-------------------\n",
      "1: Morning Broadcast Meteorologist - ABC Affiliate\n",
      "2: Chief Meteorologist - NBC News Team (Weekend Shifts)\n",
      "3: Broadcast Meteorologist (Part-Time) - Severe Weather Coverage\n",
      "4: On-Air Meteorologist - Live Forecasting Experience Required\n",
      "5: TV Broadcast Meteorologist - Storm Chaser Opportunity\n",
      "\n",
      "\n",
      "\n",
      "Variations of: Early Childhood Teacher:\n",
      "-------------------\n",
      "1: Lead Early Childhood Teacher - Pre-K Program (Head Start)\n",
      "2: Infant/Toddler Early Childhood Teacher - Full-Time, Benefits\n",
      "3: Early Childhood Special Education Teacher - Autism Focus\n",
      "4: Preschool Early Childhood Teacher - Music and Arts Integrated\n",
      "5: Assistant Early Childhood Teacher - Float Position, Various Locations\n",
      "\n",
      "\n",
      "\n",
      "Variations of: Solar Energy Technician:\n",
      "-------------------\n",
      "1: Solar Energy Technician - Residential Installation (Roofing Experience)\n",
      "2: Solar Panel Technician - Commercial Projects (Travel Required)\n",
      "3: Entry-Level Solar Energy Technician - Training Provided (Denver, CO)\n",
      "4: Senior Solar Energy Technician - System Design and Installation\n",
      "5: Solar Energy Technician - Service and Maintenance (Field Work)\n",
      "\n",
      "\n",
      "\n",
      "Variations of: Laser Engineer:\n",
      "-------------------\n",
      "1: Laser Engineer - Fiber Optic Communications (Research and Development)\n",
      "2: Senior Laser Engineer - Medical Device Industry (Class IV Lasers)\n",
      "3: Laser Systems Engineer - Aerospace and Defense\n",
      "4: Optical Laser Engineer - Spectroscopy and Interferometry\n",
      "5: Laser Engineer - Material Processing (Cutting, Welding, and Marking)\n",
      "\n",
      "\n",
      "\n"
     ]
    }
   ],
   "source": [
    "for seed_title, response in zip(example_seed_titles, parsed_output):\n",
    "    print(f'Variations of: {seed_title}:')\n",
    "    print('-------------------')\n",
    "    for i, variation in enumerate(response):\n",
    "        print(f'{i+1}: {variation}')\n",
    "\n",
    "    print('\\n\\n')"
   ]
  },
  {
   "cell_type": "code",
   "execution_count": 16,
   "metadata": {},
   "outputs": [
    {
     "data": {
      "application/vnd.jupyter.widget-view+json": {
       "model_id": "b0fb6a5bc04f47f88fec062b442a94be",
       "version_major": 2,
       "version_minor": 0
      },
      "text/plain": [
       "  0%|          | 0/2922 [00:00<?, ?it/s]"
      ]
     },
     "metadata": {},
     "output_type": "display_data"
    },
    {
     "name": "stdout",
     "output_type": "stream",
     "text": [
      "Attempt 1 for chunk 394\n"
     ]
    },
    {
     "ename": "RateLimitError",
     "evalue": "Error code: 429 - {'error': {'code': None, 'message': 'Rate limit exceeded', 'param': None, 'type': 'rate_limit_exceeded'}}",
     "output_type": "error",
     "traceback": [
      "\u001b[31m---------------------------------------------------------------------------\u001b[39m",
      "\u001b[31mRateLimitError\u001b[39m                            Traceback (most recent call last)",
      "\u001b[36mCell\u001b[39m\u001b[36m \u001b[39m\u001b[32mIn[16]\u001b[39m\u001b[32m, line 4\u001b[39m\n\u001b[32m      1\u001b[39m \u001b[38;5;28;01mfrom\u001b[39;00m\u001b[38;5;250m \u001b[39m\u001b[34;01mllm_requests\u001b[39;00m\u001b[38;5;250m \u001b[39m\u001b[38;5;28;01mimport\u001b[39;00m async_main_stubborn\n\u001b[32m      3\u001b[39m output_dict_path = os.path.join(data_path, \u001b[33m'\u001b[39m\u001b[33mjitter_responses.pkl\u001b[39m\u001b[33m'\u001b[39m)\n\u001b[32m----> \u001b[39m\u001b[32m4\u001b[39m response_dict = \u001b[38;5;28;01mawait\u001b[39;00m async_main_stubborn(\n\u001b[32m      5\u001b[39m     all_query_titles=seed_titles,\n\u001b[32m      6\u001b[39m     client=client,\n\u001b[32m      7\u001b[39m     model_name=model_name,\n\u001b[32m      8\u001b[39m     output_path=output_dict_path,\n\u001b[32m      9\u001b[39m     chunk_size=\u001b[32m2\u001b[39m,\n\u001b[32m     10\u001b[39m     num_examples_per_title=\u001b[32m2\u001b[39m,\n\u001b[32m     11\u001b[39m     delay=\u001b[32m2\u001b[39m,\n\u001b[32m     12\u001b[39m     giveup_after=\u001b[32m5\u001b[39m,\n\u001b[32m     13\u001b[39m \n\u001b[32m     14\u001b[39m )\n",
      "\u001b[36mFile \u001b[39m\u001b[32m~\\OneDrive - Eli Lilly and Company\\personal files\\build project\\fine-tuning-build-project\\synthetic_data\\llm_requests.py:106\u001b[39m, in \u001b[36masync_main_stubborn\u001b[39m\u001b[34m(all_query_titles, client, model_name, output_path, chunk_size, num_examples_per_title, delay, giveup_after)\u001b[39m\n\u001b[32m     94\u001b[39m api_task = asyncio.create_task(\n\u001b[32m     95\u001b[39m     async_make_api_call(\n\u001b[32m     96\u001b[39m         client,\n\u001b[32m   (...)\u001b[39m\u001b[32m    103\u001b[39m     )\n\u001b[32m    104\u001b[39m )\n\u001b[32m    105\u001b[39m \u001b[38;5;28;01mawait\u001b[39;00m asyncio.sleep(delay)\n\u001b[32m--> \u001b[39m\u001b[32m106\u001b[39m response = \u001b[38;5;28;01mawait\u001b[39;00m api_task\n\u001b[32m    107\u001b[39m parsed_response = parse_gpt_response(\n\u001b[32m    108\u001b[39m     gpt_output=response.choices[\u001b[32m0\u001b[39m].message.content,\n\u001b[32m    109\u001b[39m     num_query_titles=chunk_size,\n\u001b[32m    110\u001b[39m     num_examples_per_query_title=num_examples_per_title,\n\u001b[32m    111\u001b[39m     throw_exception_on_failure=\u001b[38;5;28;01mFalse\u001b[39;00m\n\u001b[32m    112\u001b[39m )\n\u001b[32m    113\u001b[39m \u001b[38;5;28;01mif\u001b[39;00m parsed_response:\n",
      "\u001b[36mFile \u001b[39m\u001b[32m~\\OneDrive - Eli Lilly and Company\\personal files\\build project\\fine-tuning-build-project\\synthetic_data\\llm_requests.py:76\u001b[39m, in \u001b[36masync_make_api_call\u001b[39m\u001b[34m(client, model_name, messages, perturbation_std)\u001b[39m\n\u001b[32m     74\u001b[39m \u001b[38;5;28;01masync\u001b[39;00m \u001b[38;5;28;01mdef\u001b[39;00m\u001b[38;5;250m \u001b[39m\u001b[34masync_make_api_call\u001b[39m(client, model_name, messages, perturbation_std=\u001b[32m0.0\u001b[39m):\n\u001b[32m     75\u001b[39m     \u001b[38;5;66;03m# Adding perturbation to the temperature to avoid cached responses (I actually think they patched this away unfortunately!!)\u001b[39;00m\n\u001b[32m---> \u001b[39m\u001b[32m76\u001b[39m     response = \u001b[43mclient\u001b[49m\u001b[43m.\u001b[49m\u001b[43mchat\u001b[49m\u001b[43m.\u001b[49m\u001b[43mcompletions\u001b[49m\u001b[43m.\u001b[49m\u001b[43mcreate\u001b[49m\u001b[43m(\u001b[49m\n\u001b[32m     77\u001b[39m \u001b[43m            \u001b[49m\u001b[43mmodel\u001b[49m\u001b[43m=\u001b[49m\u001b[43mmodel_name\u001b[49m\u001b[43m,\u001b[49m\n\u001b[32m     78\u001b[39m \u001b[43m            \u001b[49m\u001b[43mmessages\u001b[49m\u001b[43m=\u001b[49m\u001b[43mmessages\u001b[49m\u001b[43m,\u001b[49m\n\u001b[32m     79\u001b[39m \u001b[43m            \u001b[49m\u001b[43mstop\u001b[49m\u001b[43m=\u001b[49m\u001b[43m[\u001b[49m\u001b[33;43m\"\u001b[39;49m\u001b[33;43m<query>\u001b[39;49m\u001b[33;43m\"\u001b[39;49m\u001b[43m]\u001b[49m\u001b[43m,\u001b[49m\n\u001b[32m     80\u001b[39m \u001b[43m            \u001b[49m\u001b[43mtemperature\u001b[49m\u001b[43m=\u001b[49m\u001b[32;43m0.7\u001b[39;49m\u001b[43m \u001b[49m\u001b[43m+\u001b[49m\u001b[43m \u001b[49m\u001b[43mrng\u001b[49m\u001b[43m.\u001b[49m\u001b[43mnormal\u001b[49m\u001b[43m(\u001b[49m\u001b[32;43m0\u001b[39;49m\u001b[43m,\u001b[49m\u001b[43m \u001b[49m\u001b[43mperturbation_std\u001b[49m\u001b[43m)\u001b[49m\n\u001b[32m     81\u001b[39m \u001b[43m        \u001b[49m\u001b[43m)\u001b[49m\n\u001b[32m     82\u001b[39m     \u001b[38;5;28;01mreturn\u001b[39;00m response\n",
      "\u001b[36mFile \u001b[39m\u001b[32m~\\AppData\\Local\\Packages\\PythonSoftwareFoundation.Python.3.13_qbz5n2kfra8p0\\LocalCache\\local-packages\\Python313\\site-packages\\openai\\_utils\\_utils.py:287\u001b[39m, in \u001b[36mrequired_args.<locals>.inner.<locals>.wrapper\u001b[39m\u001b[34m(*args, **kwargs)\u001b[39m\n\u001b[32m    285\u001b[39m             msg = \u001b[33mf\u001b[39m\u001b[33m\"\u001b[39m\u001b[33mMissing required argument: \u001b[39m\u001b[38;5;132;01m{\u001b[39;00mquote(missing[\u001b[32m0\u001b[39m])\u001b[38;5;132;01m}\u001b[39;00m\u001b[33m\"\u001b[39m\n\u001b[32m    286\u001b[39m     \u001b[38;5;28;01mraise\u001b[39;00m \u001b[38;5;167;01mTypeError\u001b[39;00m(msg)\n\u001b[32m--> \u001b[39m\u001b[32m287\u001b[39m \u001b[38;5;28;01mreturn\u001b[39;00m \u001b[43mfunc\u001b[49m\u001b[43m(\u001b[49m\u001b[43m*\u001b[49m\u001b[43margs\u001b[49m\u001b[43m,\u001b[49m\u001b[43m \u001b[49m\u001b[43m*\u001b[49m\u001b[43m*\u001b[49m\u001b[43mkwargs\u001b[49m\u001b[43m)\u001b[49m\n",
      "\u001b[36mFile \u001b[39m\u001b[32m~\\AppData\\Local\\Packages\\PythonSoftwareFoundation.Python.3.13_qbz5n2kfra8p0\\LocalCache\\local-packages\\Python313\\site-packages\\openai\\resources\\chat\\completions\\completions.py:1131\u001b[39m, in \u001b[36mCompletions.create\u001b[39m\u001b[34m(self, messages, model, audio, frequency_penalty, function_call, functions, logit_bias, logprobs, max_completion_tokens, max_tokens, metadata, modalities, n, parallel_tool_calls, prediction, presence_penalty, prompt_cache_key, reasoning_effort, response_format, safety_identifier, seed, service_tier, stop, store, stream, stream_options, temperature, tool_choice, tools, top_logprobs, top_p, user, web_search_options, extra_headers, extra_query, extra_body, timeout)\u001b[39m\n\u001b[32m   1086\u001b[39m \u001b[38;5;129m@required_args\u001b[39m([\u001b[33m\"\u001b[39m\u001b[33mmessages\u001b[39m\u001b[33m\"\u001b[39m, \u001b[33m\"\u001b[39m\u001b[33mmodel\u001b[39m\u001b[33m\"\u001b[39m], [\u001b[33m\"\u001b[39m\u001b[33mmessages\u001b[39m\u001b[33m\"\u001b[39m, \u001b[33m\"\u001b[39m\u001b[33mmodel\u001b[39m\u001b[33m\"\u001b[39m, \u001b[33m\"\u001b[39m\u001b[33mstream\u001b[39m\u001b[33m\"\u001b[39m])\n\u001b[32m   1087\u001b[39m \u001b[38;5;28;01mdef\u001b[39;00m\u001b[38;5;250m \u001b[39m\u001b[34mcreate\u001b[39m(\n\u001b[32m   1088\u001b[39m     \u001b[38;5;28mself\u001b[39m,\n\u001b[32m   (...)\u001b[39m\u001b[32m   1128\u001b[39m     timeout: \u001b[38;5;28mfloat\u001b[39m | httpx.Timeout | \u001b[38;5;28;01mNone\u001b[39;00m | NotGiven = NOT_GIVEN,\n\u001b[32m   1129\u001b[39m ) -> ChatCompletion | Stream[ChatCompletionChunk]:\n\u001b[32m   1130\u001b[39m     validate_response_format(response_format)\n\u001b[32m-> \u001b[39m\u001b[32m1131\u001b[39m     \u001b[38;5;28;01mreturn\u001b[39;00m \u001b[38;5;28;43mself\u001b[39;49m\u001b[43m.\u001b[49m\u001b[43m_post\u001b[49m\u001b[43m(\u001b[49m\n\u001b[32m   1132\u001b[39m \u001b[43m        \u001b[49m\u001b[33;43m\"\u001b[39;49m\u001b[33;43m/chat/completions\u001b[39;49m\u001b[33;43m\"\u001b[39;49m\u001b[43m,\u001b[49m\n\u001b[32m   1133\u001b[39m \u001b[43m        \u001b[49m\u001b[43mbody\u001b[49m\u001b[43m=\u001b[49m\u001b[43mmaybe_transform\u001b[49m\u001b[43m(\u001b[49m\n\u001b[32m   1134\u001b[39m \u001b[43m            \u001b[49m\u001b[43m{\u001b[49m\n\u001b[32m   1135\u001b[39m \u001b[43m                \u001b[49m\u001b[33;43m\"\u001b[39;49m\u001b[33;43mmessages\u001b[39;49m\u001b[33;43m\"\u001b[39;49m\u001b[43m:\u001b[49m\u001b[43m \u001b[49m\u001b[43mmessages\u001b[49m\u001b[43m,\u001b[49m\n\u001b[32m   1136\u001b[39m \u001b[43m                \u001b[49m\u001b[33;43m\"\u001b[39;49m\u001b[33;43mmodel\u001b[39;49m\u001b[33;43m\"\u001b[39;49m\u001b[43m:\u001b[49m\u001b[43m \u001b[49m\u001b[43mmodel\u001b[49m\u001b[43m,\u001b[49m\n\u001b[32m   1137\u001b[39m \u001b[43m                \u001b[49m\u001b[33;43m\"\u001b[39;49m\u001b[33;43maudio\u001b[39;49m\u001b[33;43m\"\u001b[39;49m\u001b[43m:\u001b[49m\u001b[43m \u001b[49m\u001b[43maudio\u001b[49m\u001b[43m,\u001b[49m\n\u001b[32m   1138\u001b[39m \u001b[43m                \u001b[49m\u001b[33;43m\"\u001b[39;49m\u001b[33;43mfrequency_penalty\u001b[39;49m\u001b[33;43m\"\u001b[39;49m\u001b[43m:\u001b[49m\u001b[43m \u001b[49m\u001b[43mfrequency_penalty\u001b[49m\u001b[43m,\u001b[49m\n\u001b[32m   1139\u001b[39m \u001b[43m                \u001b[49m\u001b[33;43m\"\u001b[39;49m\u001b[33;43mfunction_call\u001b[39;49m\u001b[33;43m\"\u001b[39;49m\u001b[43m:\u001b[49m\u001b[43m \u001b[49m\u001b[43mfunction_call\u001b[49m\u001b[43m,\u001b[49m\n\u001b[32m   1140\u001b[39m \u001b[43m                \u001b[49m\u001b[33;43m\"\u001b[39;49m\u001b[33;43mfunctions\u001b[39;49m\u001b[33;43m\"\u001b[39;49m\u001b[43m:\u001b[49m\u001b[43m \u001b[49m\u001b[43mfunctions\u001b[49m\u001b[43m,\u001b[49m\n\u001b[32m   1141\u001b[39m \u001b[43m                \u001b[49m\u001b[33;43m\"\u001b[39;49m\u001b[33;43mlogit_bias\u001b[39;49m\u001b[33;43m\"\u001b[39;49m\u001b[43m:\u001b[49m\u001b[43m \u001b[49m\u001b[43mlogit_bias\u001b[49m\u001b[43m,\u001b[49m\n\u001b[32m   1142\u001b[39m \u001b[43m                \u001b[49m\u001b[33;43m\"\u001b[39;49m\u001b[33;43mlogprobs\u001b[39;49m\u001b[33;43m\"\u001b[39;49m\u001b[43m:\u001b[49m\u001b[43m \u001b[49m\u001b[43mlogprobs\u001b[49m\u001b[43m,\u001b[49m\n\u001b[32m   1143\u001b[39m \u001b[43m                \u001b[49m\u001b[33;43m\"\u001b[39;49m\u001b[33;43mmax_completion_tokens\u001b[39;49m\u001b[33;43m\"\u001b[39;49m\u001b[43m:\u001b[49m\u001b[43m \u001b[49m\u001b[43mmax_completion_tokens\u001b[49m\u001b[43m,\u001b[49m\n\u001b[32m   1144\u001b[39m \u001b[43m                \u001b[49m\u001b[33;43m\"\u001b[39;49m\u001b[33;43mmax_tokens\u001b[39;49m\u001b[33;43m\"\u001b[39;49m\u001b[43m:\u001b[49m\u001b[43m \u001b[49m\u001b[43mmax_tokens\u001b[49m\u001b[43m,\u001b[49m\n\u001b[32m   1145\u001b[39m \u001b[43m                \u001b[49m\u001b[33;43m\"\u001b[39;49m\u001b[33;43mmetadata\u001b[39;49m\u001b[33;43m\"\u001b[39;49m\u001b[43m:\u001b[49m\u001b[43m \u001b[49m\u001b[43mmetadata\u001b[49m\u001b[43m,\u001b[49m\n\u001b[32m   1146\u001b[39m \u001b[43m                \u001b[49m\u001b[33;43m\"\u001b[39;49m\u001b[33;43mmodalities\u001b[39;49m\u001b[33;43m\"\u001b[39;49m\u001b[43m:\u001b[49m\u001b[43m \u001b[49m\u001b[43mmodalities\u001b[49m\u001b[43m,\u001b[49m\n\u001b[32m   1147\u001b[39m \u001b[43m                \u001b[49m\u001b[33;43m\"\u001b[39;49m\u001b[33;43mn\u001b[39;49m\u001b[33;43m\"\u001b[39;49m\u001b[43m:\u001b[49m\u001b[43m \u001b[49m\u001b[43mn\u001b[49m\u001b[43m,\u001b[49m\n\u001b[32m   1148\u001b[39m \u001b[43m                \u001b[49m\u001b[33;43m\"\u001b[39;49m\u001b[33;43mparallel_tool_calls\u001b[39;49m\u001b[33;43m\"\u001b[39;49m\u001b[43m:\u001b[49m\u001b[43m \u001b[49m\u001b[43mparallel_tool_calls\u001b[49m\u001b[43m,\u001b[49m\n\u001b[32m   1149\u001b[39m \u001b[43m                \u001b[49m\u001b[33;43m\"\u001b[39;49m\u001b[33;43mprediction\u001b[39;49m\u001b[33;43m\"\u001b[39;49m\u001b[43m:\u001b[49m\u001b[43m \u001b[49m\u001b[43mprediction\u001b[49m\u001b[43m,\u001b[49m\n\u001b[32m   1150\u001b[39m \u001b[43m                \u001b[49m\u001b[33;43m\"\u001b[39;49m\u001b[33;43mpresence_penalty\u001b[39;49m\u001b[33;43m\"\u001b[39;49m\u001b[43m:\u001b[49m\u001b[43m \u001b[49m\u001b[43mpresence_penalty\u001b[49m\u001b[43m,\u001b[49m\n\u001b[32m   1151\u001b[39m \u001b[43m                \u001b[49m\u001b[33;43m\"\u001b[39;49m\u001b[33;43mprompt_cache_key\u001b[39;49m\u001b[33;43m\"\u001b[39;49m\u001b[43m:\u001b[49m\u001b[43m \u001b[49m\u001b[43mprompt_cache_key\u001b[49m\u001b[43m,\u001b[49m\n\u001b[32m   1152\u001b[39m \u001b[43m                \u001b[49m\u001b[33;43m\"\u001b[39;49m\u001b[33;43mreasoning_effort\u001b[39;49m\u001b[33;43m\"\u001b[39;49m\u001b[43m:\u001b[49m\u001b[43m \u001b[49m\u001b[43mreasoning_effort\u001b[49m\u001b[43m,\u001b[49m\n\u001b[32m   1153\u001b[39m \u001b[43m                \u001b[49m\u001b[33;43m\"\u001b[39;49m\u001b[33;43mresponse_format\u001b[39;49m\u001b[33;43m\"\u001b[39;49m\u001b[43m:\u001b[49m\u001b[43m \u001b[49m\u001b[43mresponse_format\u001b[49m\u001b[43m,\u001b[49m\n\u001b[32m   1154\u001b[39m \u001b[43m                \u001b[49m\u001b[33;43m\"\u001b[39;49m\u001b[33;43msafety_identifier\u001b[39;49m\u001b[33;43m\"\u001b[39;49m\u001b[43m:\u001b[49m\u001b[43m \u001b[49m\u001b[43msafety_identifier\u001b[49m\u001b[43m,\u001b[49m\n\u001b[32m   1155\u001b[39m \u001b[43m                \u001b[49m\u001b[33;43m\"\u001b[39;49m\u001b[33;43mseed\u001b[39;49m\u001b[33;43m\"\u001b[39;49m\u001b[43m:\u001b[49m\u001b[43m \u001b[49m\u001b[43mseed\u001b[49m\u001b[43m,\u001b[49m\n\u001b[32m   1156\u001b[39m \u001b[43m                \u001b[49m\u001b[33;43m\"\u001b[39;49m\u001b[33;43mservice_tier\u001b[39;49m\u001b[33;43m\"\u001b[39;49m\u001b[43m:\u001b[49m\u001b[43m \u001b[49m\u001b[43mservice_tier\u001b[49m\u001b[43m,\u001b[49m\n\u001b[32m   1157\u001b[39m \u001b[43m                \u001b[49m\u001b[33;43m\"\u001b[39;49m\u001b[33;43mstop\u001b[39;49m\u001b[33;43m\"\u001b[39;49m\u001b[43m:\u001b[49m\u001b[43m \u001b[49m\u001b[43mstop\u001b[49m\u001b[43m,\u001b[49m\n\u001b[32m   1158\u001b[39m \u001b[43m                \u001b[49m\u001b[33;43m\"\u001b[39;49m\u001b[33;43mstore\u001b[39;49m\u001b[33;43m\"\u001b[39;49m\u001b[43m:\u001b[49m\u001b[43m \u001b[49m\u001b[43mstore\u001b[49m\u001b[43m,\u001b[49m\n\u001b[32m   1159\u001b[39m \u001b[43m                \u001b[49m\u001b[33;43m\"\u001b[39;49m\u001b[33;43mstream\u001b[39;49m\u001b[33;43m\"\u001b[39;49m\u001b[43m:\u001b[49m\u001b[43m \u001b[49m\u001b[43mstream\u001b[49m\u001b[43m,\u001b[49m\n\u001b[32m   1160\u001b[39m \u001b[43m                \u001b[49m\u001b[33;43m\"\u001b[39;49m\u001b[33;43mstream_options\u001b[39;49m\u001b[33;43m\"\u001b[39;49m\u001b[43m:\u001b[49m\u001b[43m \u001b[49m\u001b[43mstream_options\u001b[49m\u001b[43m,\u001b[49m\n\u001b[32m   1161\u001b[39m \u001b[43m                \u001b[49m\u001b[33;43m\"\u001b[39;49m\u001b[33;43mtemperature\u001b[39;49m\u001b[33;43m\"\u001b[39;49m\u001b[43m:\u001b[49m\u001b[43m \u001b[49m\u001b[43mtemperature\u001b[49m\u001b[43m,\u001b[49m\n\u001b[32m   1162\u001b[39m \u001b[43m                \u001b[49m\u001b[33;43m\"\u001b[39;49m\u001b[33;43mtool_choice\u001b[39;49m\u001b[33;43m\"\u001b[39;49m\u001b[43m:\u001b[49m\u001b[43m \u001b[49m\u001b[43mtool_choice\u001b[49m\u001b[43m,\u001b[49m\n\u001b[32m   1163\u001b[39m \u001b[43m                \u001b[49m\u001b[33;43m\"\u001b[39;49m\u001b[33;43mtools\u001b[39;49m\u001b[33;43m\"\u001b[39;49m\u001b[43m:\u001b[49m\u001b[43m \u001b[49m\u001b[43mtools\u001b[49m\u001b[43m,\u001b[49m\n\u001b[32m   1164\u001b[39m \u001b[43m                \u001b[49m\u001b[33;43m\"\u001b[39;49m\u001b[33;43mtop_logprobs\u001b[39;49m\u001b[33;43m\"\u001b[39;49m\u001b[43m:\u001b[49m\u001b[43m \u001b[49m\u001b[43mtop_logprobs\u001b[49m\u001b[43m,\u001b[49m\n\u001b[32m   1165\u001b[39m \u001b[43m                \u001b[49m\u001b[33;43m\"\u001b[39;49m\u001b[33;43mtop_p\u001b[39;49m\u001b[33;43m\"\u001b[39;49m\u001b[43m:\u001b[49m\u001b[43m \u001b[49m\u001b[43mtop_p\u001b[49m\u001b[43m,\u001b[49m\n\u001b[32m   1166\u001b[39m \u001b[43m                \u001b[49m\u001b[33;43m\"\u001b[39;49m\u001b[33;43muser\u001b[39;49m\u001b[33;43m\"\u001b[39;49m\u001b[43m:\u001b[49m\u001b[43m \u001b[49m\u001b[43muser\u001b[49m\u001b[43m,\u001b[49m\n\u001b[32m   1167\u001b[39m \u001b[43m                \u001b[49m\u001b[33;43m\"\u001b[39;49m\u001b[33;43mweb_search_options\u001b[39;49m\u001b[33;43m\"\u001b[39;49m\u001b[43m:\u001b[49m\u001b[43m \u001b[49m\u001b[43mweb_search_options\u001b[49m\u001b[43m,\u001b[49m\n\u001b[32m   1168\u001b[39m \u001b[43m            \u001b[49m\u001b[43m}\u001b[49m\u001b[43m,\u001b[49m\n\u001b[32m   1169\u001b[39m \u001b[43m            \u001b[49m\u001b[43mcompletion_create_params\u001b[49m\u001b[43m.\u001b[49m\u001b[43mCompletionCreateParamsStreaming\u001b[49m\n\u001b[32m   1170\u001b[39m \u001b[43m            \u001b[49m\u001b[38;5;28;43;01mif\u001b[39;49;00m\u001b[43m \u001b[49m\u001b[43mstream\u001b[49m\n\u001b[32m   1171\u001b[39m \u001b[43m            \u001b[49m\u001b[38;5;28;43;01melse\u001b[39;49;00m\u001b[43m \u001b[49m\u001b[43mcompletion_create_params\u001b[49m\u001b[43m.\u001b[49m\u001b[43mCompletionCreateParamsNonStreaming\u001b[49m\u001b[43m,\u001b[49m\n\u001b[32m   1172\u001b[39m \u001b[43m        \u001b[49m\u001b[43m)\u001b[49m\u001b[43m,\u001b[49m\n\u001b[32m   1173\u001b[39m \u001b[43m        \u001b[49m\u001b[43moptions\u001b[49m\u001b[43m=\u001b[49m\u001b[43mmake_request_options\u001b[49m\u001b[43m(\u001b[49m\n\u001b[32m   1174\u001b[39m \u001b[43m            \u001b[49m\u001b[43mextra_headers\u001b[49m\u001b[43m=\u001b[49m\u001b[43mextra_headers\u001b[49m\u001b[43m,\u001b[49m\u001b[43m \u001b[49m\u001b[43mextra_query\u001b[49m\u001b[43m=\u001b[49m\u001b[43mextra_query\u001b[49m\u001b[43m,\u001b[49m\u001b[43m \u001b[49m\u001b[43mextra_body\u001b[49m\u001b[43m=\u001b[49m\u001b[43mextra_body\u001b[49m\u001b[43m,\u001b[49m\u001b[43m \u001b[49m\u001b[43mtimeout\u001b[49m\u001b[43m=\u001b[49m\u001b[43mtimeout\u001b[49m\n\u001b[32m   1175\u001b[39m \u001b[43m        \u001b[49m\u001b[43m)\u001b[49m\u001b[43m,\u001b[49m\n\u001b[32m   1176\u001b[39m \u001b[43m        \u001b[49m\u001b[43mcast_to\u001b[49m\u001b[43m=\u001b[49m\u001b[43mChatCompletion\u001b[49m\u001b[43m,\u001b[49m\n\u001b[32m   1177\u001b[39m \u001b[43m        \u001b[49m\u001b[43mstream\u001b[49m\u001b[43m=\u001b[49m\u001b[43mstream\u001b[49m\u001b[43m \u001b[49m\u001b[38;5;129;43;01mor\u001b[39;49;00m\u001b[43m \u001b[49m\u001b[38;5;28;43;01mFalse\u001b[39;49;00m\u001b[43m,\u001b[49m\n\u001b[32m   1178\u001b[39m \u001b[43m        \u001b[49m\u001b[43mstream_cls\u001b[49m\u001b[43m=\u001b[49m\u001b[43mStream\u001b[49m\u001b[43m[\u001b[49m\u001b[43mChatCompletionChunk\u001b[49m\u001b[43m]\u001b[49m\u001b[43m,\u001b[49m\n\u001b[32m   1179\u001b[39m \u001b[43m    \u001b[49m\u001b[43m)\u001b[49m\n",
      "\u001b[36mFile \u001b[39m\u001b[32m~\\AppData\\Local\\Packages\\PythonSoftwareFoundation.Python.3.13_qbz5n2kfra8p0\\LocalCache\\local-packages\\Python313\\site-packages\\openai\\_base_client.py:1256\u001b[39m, in \u001b[36mSyncAPIClient.post\u001b[39m\u001b[34m(self, path, cast_to, body, options, files, stream, stream_cls)\u001b[39m\n\u001b[32m   1242\u001b[39m \u001b[38;5;28;01mdef\u001b[39;00m\u001b[38;5;250m \u001b[39m\u001b[34mpost\u001b[39m(\n\u001b[32m   1243\u001b[39m     \u001b[38;5;28mself\u001b[39m,\n\u001b[32m   1244\u001b[39m     path: \u001b[38;5;28mstr\u001b[39m,\n\u001b[32m   (...)\u001b[39m\u001b[32m   1251\u001b[39m     stream_cls: \u001b[38;5;28mtype\u001b[39m[_StreamT] | \u001b[38;5;28;01mNone\u001b[39;00m = \u001b[38;5;28;01mNone\u001b[39;00m,\n\u001b[32m   1252\u001b[39m ) -> ResponseT | _StreamT:\n\u001b[32m   1253\u001b[39m     opts = FinalRequestOptions.construct(\n\u001b[32m   1254\u001b[39m         method=\u001b[33m\"\u001b[39m\u001b[33mpost\u001b[39m\u001b[33m\"\u001b[39m, url=path, json_data=body, files=to_httpx_files(files), **options\n\u001b[32m   1255\u001b[39m     )\n\u001b[32m-> \u001b[39m\u001b[32m1256\u001b[39m     \u001b[38;5;28;01mreturn\u001b[39;00m cast(ResponseT, \u001b[38;5;28;43mself\u001b[39;49m\u001b[43m.\u001b[49m\u001b[43mrequest\u001b[49m\u001b[43m(\u001b[49m\u001b[43mcast_to\u001b[49m\u001b[43m,\u001b[49m\u001b[43m \u001b[49m\u001b[43mopts\u001b[49m\u001b[43m,\u001b[49m\u001b[43m \u001b[49m\u001b[43mstream\u001b[49m\u001b[43m=\u001b[49m\u001b[43mstream\u001b[49m\u001b[43m,\u001b[49m\u001b[43m \u001b[49m\u001b[43mstream_cls\u001b[49m\u001b[43m=\u001b[49m\u001b[43mstream_cls\u001b[49m\u001b[43m)\u001b[49m)\n",
      "\u001b[36mFile \u001b[39m\u001b[32m~\\AppData\\Local\\Packages\\PythonSoftwareFoundation.Python.3.13_qbz5n2kfra8p0\\LocalCache\\local-packages\\Python313\\site-packages\\openai\\_base_client.py:1044\u001b[39m, in \u001b[36mSyncAPIClient.request\u001b[39m\u001b[34m(self, cast_to, options, stream, stream_cls)\u001b[39m\n\u001b[32m   1041\u001b[39m             err.response.read()\n\u001b[32m   1043\u001b[39m         log.debug(\u001b[33m\"\u001b[39m\u001b[33mRe-raising status error\u001b[39m\u001b[33m\"\u001b[39m)\n\u001b[32m-> \u001b[39m\u001b[32m1044\u001b[39m         \u001b[38;5;28;01mraise\u001b[39;00m \u001b[38;5;28mself\u001b[39m._make_status_error_from_response(err.response) \u001b[38;5;28;01mfrom\u001b[39;00m\u001b[38;5;250m \u001b[39m\u001b[38;5;28;01mNone\u001b[39;00m\n\u001b[32m   1046\u001b[39m     \u001b[38;5;28;01mbreak\u001b[39;00m\n\u001b[32m   1048\u001b[39m \u001b[38;5;28;01massert\u001b[39;00m response \u001b[38;5;129;01mis\u001b[39;00m \u001b[38;5;129;01mnot\u001b[39;00m \u001b[38;5;28;01mNone\u001b[39;00m, \u001b[33m\"\u001b[39m\u001b[33mcould not resolve response (should never happen)\u001b[39m\u001b[33m\"\u001b[39m\n",
      "\u001b[31mRateLimitError\u001b[39m: Error code: 429 - {'error': {'code': None, 'message': 'Rate limit exceeded', 'param': None, 'type': 'rate_limit_exceeded'}}"
     ]
    }
   ],
   "source": [
    "#from llm_requests import async_main_stubborn\n",
    "#\n",
    "#output_dict_path = os.path.join(data_path, 'jitter_responses.pkl')\n",
    "#response_dict = await async_main_stubborn(\n",
    "#    all_query_titles=seed_titles,\n",
    "#    client=client,\n",
    "#    model_name=model_name,\n",
    "#    output_path=output_dict_path,\n",
    "#    chunk_size=10,\n",
    "#    num_examples_per_title=2,\n",
    "#    delay=2,\n",
    "#    giveup_after=5,\n",
    "#    \n",
    "#)"
   ]
  },
  {
   "cell_type": "code",
   "execution_count": 17,
   "metadata": {},
   "outputs": [
    {
     "name": "stdout",
     "output_type": "stream",
     "text": [
      "\n",
      "--- Prompt 1 ---\n",
      "[{'role': 'system', 'content': 'You are an expert in recruitment, staffing and HR.'}, {'role': 'user', 'content': 'Your task is to generate \\'in-the-wild\\' job posting titles for given \\'clean\\' job titles. The \\'in-the-wild\\' titles should resemble real-world job postings as seen on sites like LinkedIn or company websites. These titles may include additional words, phrases, or abbreviations that are unnecessary or irrelevant to classifying the job into a standard taxonomy.\\n\\n**Instructions:**\\nor this list of \\'clean\\' job titles, generate a list of 2 \\'in-the-wild\\' job titles for each.\\n\\nIt is important to:\\n\\n- Format your responses consistently (within and between queries)\\n- Vary the sentence structure/order, length, and additional information in the \\'in-the-wild\\' titles.\\n- Rarely include a company name, and if you do, choose an appropriate real company.\\n- You may include locations, departments, or sectors (e.g., \"East Coast Operations\", \"Global Data Strategy\") infrequently.\\n- Use a variety of punctuation\\n- Be imaginative! \\n\\n<query>\\n1. `Office Coordinator`\\n2. `Physical Therapy Assistant`\\n3. `Product Manager`\\n4. `Software Engineer`\\n5. `Teacher Aide`\\n6. `Teller`\\n7. `Machine Operator`\\n8. `Licensed Vocational Nurse`\\n9. `Sales Professional`\\n10. `Benefits Specialist`\\n11. `Marketing Manager`\\n12. `Credit Risk Expert`\\n13. `Network Architect`\\n14. `Registered Nurse`\\n15. `Fluid Dynamics Scientist`\\n16. `Lawyer`\\n17. `Machine Learning Engineer`\\n18. `Market Research Analyst`\\n19. `Systems Admin`\\n20. `Valet`\\n</query>'}, {'role': 'assistant', 'content': '<response>\\n1. [`Lead Office Coordinator - Casey Kalbs Territory`, `Senior Office Coordinator - Corporate Headquarters`]\\n2. [`Travel Long Term Care Physical Therapy Assistant - $1980 per week`, `Physical Therapy Assistant (PTA) - Full-Time, Acute Care Hospital`]\\n3. [`Product Manager (Wire Transfers & Instant Payments) - Commercial`, `Senior Product Manager - Mobile Apps`]\\n4. [`Principal Field Performance Software Engineer US Remote`, `Exciting Opportunity: Software Engineer Needed for Innovative Projects (Remote)`]\\n5. [`Infant/Toddler Teacher Aide PT- Educare Center`, `Join Our Team as a Teacher Aide - Elementary School (Full-Time)`]\\n6. [`Full Time Teller (Bilingual Preferred) - Harmony Branch Fort Collins, CO`, `Immediate Opening: Teller Position at Main Street Branch (Bilingual a Plus)`]\\n7. [`Entry Level Composites Machine Operator - 2nd Shift - Waukesha, WI`, `Machine Operator Wanted - No Experience Necessary (Training Provided)`]\\n8. [`Hiring LVN | $37/hr + Night Shift | Claim Your Shift!`, `Licensed Vocational Nurse (LVN) Needed - Flexible Shifts Available`]\\n9. [`Home Comfort Advisor / Outside Sales Professional`, `Sales Professional - High-Earning Potential in Home Services`]\\n10. [`HR Assistant, Workers Comp and Benefits Specialist - Bilingual (Spanish/English)`, `Benefits Specialist Position - Join Our HR Team Today! (Bilingual Preferred)`]\\n11. [`Vice President, Global Marketing - Obesity`, `Marketing Manager - Lead National Campaigns (Healthcare Industry)`]\\n12. [`Platform Solutions - Assistant Vice President - Credit Risk Strategy - Delaware/Dallas`, `Credit Risk Expert Wanted - Senior Role in Financial Services`]\\n13. [`Associate Director - Global Network Services Architect`, `Network Architect Opportunity - Shape Our Global Infrastructure`]\\n14. [`Staff Registered Nurse (RN) - Montgomery, OH _Up to $3,000 Sign-On Bonus_`, `Registered Nurse Positions Available - Sign-On Bonus Offered`]\\n15. [`Motorsports Computational Fluid Dynamics Senior Methods Developer`, `Fluid Dynamics Scientist - Cutting-Edge Research in Engineering`]\\n16. [`Senior Counsel, Product - Trademark & Brand Protection`, `Experienced Lawyer Needed - Intellectual Property & Trademark`]\\n17. [`Senior Machine Learning Engineer, User Listing Marketplace Intelligence`, `Machine Learning Engineer - Impactful AI Projects (Join Us)`]\\n18. [`AVP, Analytics - Health & Wellness Pet Market Expansion`, `Market Research Analyst - Exciting Opportunity in Pet Industry`]\\n19. [`5 POSITIONS - W-2 (No C2C) Cisco Network Systems Admin (Swing & Graveyard)`, `Systems Administrator - Join Our Night Operations Team (Multiple Openings)`]\\n20. [`Dealership Valet, Service Porter, Greeter in Round Rock at $15/hour - Weekly Pay!`, `Valet Positions Available - Great Pay Plus Tips (Apply Now)`]\\n</response>'}, {'role': 'user', 'content': \"That's great!\\n\\nNow please do the same for these query titles, but this time generating 5 'in-the-wild titles' per 'clean' title:\\n\\n<query>\\n1. `Corporate Physical Security Supervisor`\\n2. `Certified Personal Chef (CPC)`\\n3. `Dental Technician (Dental Tech)`\\n4. `Sociology Instructor`\\n5. `Fuel Manager`\\n</query>\"}]\n",
      "\n",
      "--- Prompt 2 ---\n",
      "[{'role': 'system', 'content': 'You are an expert in recruitment, staffing and HR.'}, {'role': 'user', 'content': 'Your task is to generate \\'in-the-wild\\' job posting titles for given \\'clean\\' job titles. The \\'in-the-wild\\' titles should resemble real-world job postings as seen on sites like LinkedIn or company websites. These titles may include additional words, phrases, or abbreviations that are unnecessary or irrelevant to classifying the job into a standard taxonomy.\\n\\n**Instructions:**\\nor this list of \\'clean\\' job titles, generate a list of 2 \\'in-the-wild\\' job titles for each.\\n\\nIt is important to:\\n\\n- Format your responses consistently (within and between queries)\\n- Vary the sentence structure/order, length, and additional information in the \\'in-the-wild\\' titles.\\n- Rarely include a company name, and if you do, choose an appropriate real company.\\n- You may include locations, departments, or sectors (e.g., \"East Coast Operations\", \"Global Data Strategy\") infrequently.\\n- Use a variety of punctuation\\n- Be imaginative! \\n\\n<query>\\n1. `Office Coordinator`\\n2. `Physical Therapy Assistant`\\n3. `Product Manager`\\n4. `Software Engineer`\\n5. `Teacher Aide`\\n6. `Teller`\\n7. `Machine Operator`\\n8. `Licensed Vocational Nurse`\\n9. `Sales Professional`\\n10. `Benefits Specialist`\\n11. `Marketing Manager`\\n12. `Credit Risk Expert`\\n13. `Network Architect`\\n14. `Registered Nurse`\\n15. `Fluid Dynamics Scientist`\\n16. `Lawyer`\\n17. `Machine Learning Engineer`\\n18. `Market Research Analyst`\\n19. `Systems Admin`\\n20. `Valet`\\n</query>'}, {'role': 'assistant', 'content': '<response>\\n1. [`Lead Office Coordinator - Casey Kalbs Territory`, `Senior Office Coordinator - Corporate Headquarters`]\\n2. [`Travel Long Term Care Physical Therapy Assistant - $1980 per week`, `Physical Therapy Assistant (PTA) - Full-Time, Acute Care Hospital`]\\n3. [`Product Manager (Wire Transfers & Instant Payments) - Commercial`, `Senior Product Manager - Mobile Apps`]\\n4. [`Principal Field Performance Software Engineer US Remote`, `Exciting Opportunity: Software Engineer Needed for Innovative Projects (Remote)`]\\n5. [`Infant/Toddler Teacher Aide PT- Educare Center`, `Join Our Team as a Teacher Aide - Elementary School (Full-Time)`]\\n6. [`Full Time Teller (Bilingual Preferred) - Harmony Branch Fort Collins, CO`, `Immediate Opening: Teller Position at Main Street Branch (Bilingual a Plus)`]\\n7. [`Entry Level Composites Machine Operator - 2nd Shift - Waukesha, WI`, `Machine Operator Wanted - No Experience Necessary (Training Provided)`]\\n8. [`Hiring LVN | $37/hr + Night Shift | Claim Your Shift!`, `Licensed Vocational Nurse (LVN) Needed - Flexible Shifts Available`]\\n9. [`Home Comfort Advisor / Outside Sales Professional`, `Sales Professional - High-Earning Potential in Home Services`]\\n10. [`HR Assistant, Workers Comp and Benefits Specialist - Bilingual (Spanish/English)`, `Benefits Specialist Position - Join Our HR Team Today! (Bilingual Preferred)`]\\n11. [`Vice President, Global Marketing - Obesity`, `Marketing Manager - Lead National Campaigns (Healthcare Industry)`]\\n12. [`Platform Solutions - Assistant Vice President - Credit Risk Strategy - Delaware/Dallas`, `Credit Risk Expert Wanted - Senior Role in Financial Services`]\\n13. [`Associate Director - Global Network Services Architect`, `Network Architect Opportunity - Shape Our Global Infrastructure`]\\n14. [`Staff Registered Nurse (RN) - Montgomery, OH _Up to $3,000 Sign-On Bonus_`, `Registered Nurse Positions Available - Sign-On Bonus Offered`]\\n15. [`Motorsports Computational Fluid Dynamics Senior Methods Developer`, `Fluid Dynamics Scientist - Cutting-Edge Research in Engineering`]\\n16. [`Senior Counsel, Product - Trademark & Brand Protection`, `Experienced Lawyer Needed - Intellectual Property & Trademark`]\\n17. [`Senior Machine Learning Engineer, User Listing Marketplace Intelligence`, `Machine Learning Engineer - Impactful AI Projects (Join Us)`]\\n18. [`AVP, Analytics - Health & Wellness Pet Market Expansion`, `Market Research Analyst - Exciting Opportunity in Pet Industry`]\\n19. [`5 POSITIONS - W-2 (No C2C) Cisco Network Systems Admin (Swing & Graveyard)`, `Systems Administrator - Join Our Night Operations Team (Multiple Openings)`]\\n20. [`Dealership Valet, Service Porter, Greeter in Round Rock at $15/hour - Weekly Pay!`, `Valet Positions Available - Great Pay Plus Tips (Apply Now)`]\\n</response>'}, {'role': 'user', 'content': \"That's great!\\n\\nNow please do the same for these query titles, but this time generating 5 'in-the-wild titles' per 'clean' title:\\n\\n<query>\\n1. `Radiation Control Technician (Radcon Technician)`\\n2. `Transit Mechanic`\\n3. `Orientation and Mobility Specialist (O and M Specialist)`\\n4. `Marine Engineer`\\n5. `Occupancy Director`\\n</query>\"}]\n",
      "\n",
      "--- Prompt 3 ---\n",
      "[{'role': 'system', 'content': 'You are an expert in recruitment, staffing and HR.'}, {'role': 'user', 'content': 'Your task is to generate \\'in-the-wild\\' job posting titles for given \\'clean\\' job titles. The \\'in-the-wild\\' titles should resemble real-world job postings as seen on sites like LinkedIn or company websites. These titles may include additional words, phrases, or abbreviations that are unnecessary or irrelevant to classifying the job into a standard taxonomy.\\n\\n**Instructions:**\\nor this list of \\'clean\\' job titles, generate a list of 2 \\'in-the-wild\\' job titles for each.\\n\\nIt is important to:\\n\\n- Format your responses consistently (within and between queries)\\n- Vary the sentence structure/order, length, and additional information in the \\'in-the-wild\\' titles.\\n- Rarely include a company name, and if you do, choose an appropriate real company.\\n- You may include locations, departments, or sectors (e.g., \"East Coast Operations\", \"Global Data Strategy\") infrequently.\\n- Use a variety of punctuation\\n- Be imaginative! \\n\\n<query>\\n1. `Office Coordinator`\\n2. `Physical Therapy Assistant`\\n3. `Product Manager`\\n4. `Software Engineer`\\n5. `Teacher Aide`\\n6. `Teller`\\n7. `Machine Operator`\\n8. `Licensed Vocational Nurse`\\n9. `Sales Professional`\\n10. `Benefits Specialist`\\n11. `Marketing Manager`\\n12. `Credit Risk Expert`\\n13. `Network Architect`\\n14. `Registered Nurse`\\n15. `Fluid Dynamics Scientist`\\n16. `Lawyer`\\n17. `Machine Learning Engineer`\\n18. `Market Research Analyst`\\n19. `Systems Admin`\\n20. `Valet`\\n</query>'}, {'role': 'assistant', 'content': '<response>\\n1. [`Lead Office Coordinator - Casey Kalbs Territory`, `Senior Office Coordinator - Corporate Headquarters`]\\n2. [`Travel Long Term Care Physical Therapy Assistant - $1980 per week`, `Physical Therapy Assistant (PTA) - Full-Time, Acute Care Hospital`]\\n3. [`Product Manager (Wire Transfers & Instant Payments) - Commercial`, `Senior Product Manager - Mobile Apps`]\\n4. [`Principal Field Performance Software Engineer US Remote`, `Exciting Opportunity: Software Engineer Needed for Innovative Projects (Remote)`]\\n5. [`Infant/Toddler Teacher Aide PT- Educare Center`, `Join Our Team as a Teacher Aide - Elementary School (Full-Time)`]\\n6. [`Full Time Teller (Bilingual Preferred) - Harmony Branch Fort Collins, CO`, `Immediate Opening: Teller Position at Main Street Branch (Bilingual a Plus)`]\\n7. [`Entry Level Composites Machine Operator - 2nd Shift - Waukesha, WI`, `Machine Operator Wanted - No Experience Necessary (Training Provided)`]\\n8. [`Hiring LVN | $37/hr + Night Shift | Claim Your Shift!`, `Licensed Vocational Nurse (LVN) Needed - Flexible Shifts Available`]\\n9. [`Home Comfort Advisor / Outside Sales Professional`, `Sales Professional - High-Earning Potential in Home Services`]\\n10. [`HR Assistant, Workers Comp and Benefits Specialist - Bilingual (Spanish/English)`, `Benefits Specialist Position - Join Our HR Team Today! (Bilingual Preferred)`]\\n11. [`Vice President, Global Marketing - Obesity`, `Marketing Manager - Lead National Campaigns (Healthcare Industry)`]\\n12. [`Platform Solutions - Assistant Vice President - Credit Risk Strategy - Delaware/Dallas`, `Credit Risk Expert Wanted - Senior Role in Financial Services`]\\n13. [`Associate Director - Global Network Services Architect`, `Network Architect Opportunity - Shape Our Global Infrastructure`]\\n14. [`Staff Registered Nurse (RN) - Montgomery, OH _Up to $3,000 Sign-On Bonus_`, `Registered Nurse Positions Available - Sign-On Bonus Offered`]\\n15. [`Motorsports Computational Fluid Dynamics Senior Methods Developer`, `Fluid Dynamics Scientist - Cutting-Edge Research in Engineering`]\\n16. [`Senior Counsel, Product - Trademark & Brand Protection`, `Experienced Lawyer Needed - Intellectual Property & Trademark`]\\n17. [`Senior Machine Learning Engineer, User Listing Marketplace Intelligence`, `Machine Learning Engineer - Impactful AI Projects (Join Us)`]\\n18. [`AVP, Analytics - Health & Wellness Pet Market Expansion`, `Market Research Analyst - Exciting Opportunity in Pet Industry`]\\n19. [`5 POSITIONS - W-2 (No C2C) Cisco Network Systems Admin (Swing & Graveyard)`, `Systems Administrator - Join Our Night Operations Team (Multiple Openings)`]\\n20. [`Dealership Valet, Service Porter, Greeter in Round Rock at $15/hour - Weekly Pay!`, `Valet Positions Available - Great Pay Plus Tips (Apply Now)`]\\n</response>'}, {'role': 'user', 'content': \"That's great!\\n\\nNow please do the same for these query titles, but this time generating 5 'in-the-wild titles' per 'clean' title:\\n\\n<query>\\n1. `Substation Technician`\\n2. `Community Relations Director`\\n3. `Fundraising Consultant`\\n4. `Advertising Photographer`\\n5. `Hoist Operator`\\n</query>\"}]\n"
     ]
    }
   ],
   "source": [
    "import os\n",
    "import pandas as pd\n",
    "import numpy as np\n",
    "from llm_requests import generate_prompt\n",
    "\n",
    "# Parameters\n",
    "seed_file = os.path.join(data_path, \"seed_titles.csv\")\n",
    "num_examples = 5       # number of seed titles per prompt\n",
    "num_prompts = 3        # number of prompts you want to generate\n",
    "random_seed = 42       # set to None if you want different results each run\n",
    "\n",
    "# Optional reproducibility\n",
    "if random_seed is not None:\n",
    "    np.random.seed(random_seed)\n",
    "\n",
    "# Load seed titles\n",
    "if not os.path.exists(seed_file):\n",
    "    raise FileNotFoundError(f\"Seed file not found: {seed_file}\")\n",
    "\n",
    "seed_titles_df = pd.read_csv(seed_file)\n",
    "\n",
    "if \"seed_title\" not in seed_titles_df.columns:\n",
    "    raise KeyError(\"CSV file must have a column named 'seed_title'\")\n",
    "\n",
    "seed_titles = seed_titles_df[\"seed_title\"].dropna().unique()\n",
    "\n",
    "# Generate multiple prompts\n",
    "all_prompts = []\n",
    "for _ in range(num_prompts):\n",
    "    example_seed_titles = np.random.choice(seed_titles, size=num_examples, replace=False)\n",
    "    prompt = generate_prompt(example_seed_titles)\n",
    "    all_prompts.append(prompt)\n",
    "\n",
    "# Print results\n",
    "for i, p in enumerate(all_prompts, start=1):\n",
    "    print(f\"\\n--- Prompt {i} ---\")\n",
    "    print(p)\n"
   ]
  },
  {
   "cell_type": "code",
   "execution_count": 18,
   "metadata": {},
   "outputs": [],
   "source": [
    "import pickle\n",
    "\n",
    "output_dict_path = os.path.join(data_path, 'jitter_responses.pkl')\n",
    "\n",
    "with open(output_dict_path, 'rb') as f:\n",
    "    response_dict = pickle.load(f)"
   ]
  },
  {
   "cell_type": "code",
   "execution_count": 19,
   "metadata": {},
   "outputs": [
    {
     "data": {
      "text/html": [
       "<div>\n",
       "<style scoped>\n",
       "    .dataframe tbody tr th:only-of-type {\n",
       "        vertical-align: middle;\n",
       "    }\n",
       "\n",
       "    .dataframe tbody tr th {\n",
       "        vertical-align: top;\n",
       "    }\n",
       "\n",
       "    .dataframe thead th {\n",
       "        text-align: right;\n",
       "    }\n",
       "</style>\n",
       "<table border=\"1\" class=\"dataframe\">\n",
       "  <thead>\n",
       "    <tr style=\"text-align: right;\">\n",
       "      <th></th>\n",
       "      <th>jittered_title</th>\n",
       "      <th>seed_title</th>\n",
       "      <th>onet_code</th>\n",
       "      <th>onet_name</th>\n",
       "    </tr>\n",
       "  </thead>\n",
       "  <tbody>\n",
       "    <tr>\n",
       "      <th>1018</th>\n",
       "      <td>Adapted Physical Education Specialist (APE) - ...</td>\n",
       "      <td>Adapted Physical Education Specialist (APE Spe...</td>\n",
       "      <td>25-2059.01</td>\n",
       "      <td>Adapted Physical Education Specialists</td>\n",
       "    </tr>\n",
       "    <tr>\n",
       "      <th>283</th>\n",
       "      <td>EVP, Chief Financial Officer - Lead Our Financ...</td>\n",
       "      <td>Executive Vice President (EVP)</td>\n",
       "      <td>11-1011.00</td>\n",
       "      <td>Chief Executives</td>\n",
       "    </tr>\n",
       "    <tr>\n",
       "      <th>3265</th>\n",
       "      <td>Senior Bike Mechanic Wanted - High-Volume Repa...</td>\n",
       "      <td>Bike Mechanic</td>\n",
       "      <td>49-3091.00</td>\n",
       "      <td>Bicycle Repairers</td>\n",
       "    </tr>\n",
       "    <tr>\n",
       "      <th>5822</th>\n",
       "      <td>Signal Maintainer - Rail Transportation (Multi...</td>\n",
       "      <td>Signal Maintainer</td>\n",
       "      <td>49-9097.00</td>\n",
       "      <td>Signal and Track Switch Repairers</td>\n",
       "    </tr>\n",
       "    <tr>\n",
       "      <th>4312</th>\n",
       "      <td>Senior Psychometric Consultant - Assessment So...</td>\n",
       "      <td>Psychometric Consultant</td>\n",
       "      <td>15-2041.00</td>\n",
       "      <td>Statisticians</td>\n",
       "    </tr>\n",
       "  </tbody>\n",
       "</table>\n",
       "</div>"
      ],
      "text/plain": [
       "                                         jittered_title  \\\n",
       "1018  Adapted Physical Education Specialist (APE) - ...   \n",
       "283   EVP, Chief Financial Officer - Lead Our Financ...   \n",
       "3265  Senior Bike Mechanic Wanted - High-Volume Repa...   \n",
       "5822  Signal Maintainer - Rail Transportation (Multi...   \n",
       "4312  Senior Psychometric Consultant - Assessment So...   \n",
       "\n",
       "                                             seed_title   onet_code  \\\n",
       "1018  Adapted Physical Education Specialist (APE Spe...  25-2059.01   \n",
       "283                      Executive Vice President (EVP)  11-1011.00   \n",
       "3265                                      Bike Mechanic  49-3091.00   \n",
       "5822                                  Signal Maintainer  49-9097.00   \n",
       "4312                            Psychometric Consultant  15-2041.00   \n",
       "\n",
       "                                   onet_name  \n",
       "1018  Adapted Physical Education Specialists  \n",
       "283                         Chief Executives  \n",
       "3265                       Bicycle Repairers  \n",
       "5822       Signal and Track Switch Repairers  \n",
       "4312                           Statisticians  "
      ]
     },
     "execution_count": 19,
     "metadata": {},
     "output_type": "execute_result"
    }
   ],
   "source": [
    "jitter_df = {\n",
    "    'jittered_title': [],\n",
    "    'seed_title': [],\n",
    "}\n",
    "\n",
    "for seed_title, jittered_titles in response_dict.items():\n",
    "    for jittered_title in jittered_titles:\n",
    "        jitter_df['jittered_title'].append(jittered_title)\n",
    "        jitter_df['seed_title'].append(seed_title)\n",
    "\n",
    "jitter_df = pd.DataFrame(jitter_df)\n",
    "\n",
    "jitter_df = jitter_df.merge(seed_titles_df, on='seed_title', how='left')\n",
    "jitter_df.sample(5)"
   ]
  },
  {
   "cell_type": "code",
   "execution_count": 20,
   "metadata": {},
   "outputs": [],
   "source": [
    "jitter_df.to_csv(os.path.join(data_path, 'jittered_titles.csv'), index=False)"
   ]
  },
  {
   "cell_type": "code",
   "execution_count": null,
   "metadata": {},
   "outputs": [],
   "source": []
  }
 ],
 "metadata": {
  "kernelspec": {
   "display_name": "Python 3 (ipykernel)",
   "language": "python",
   "name": "python3"
  },
  "language_info": {
   "codemirror_mode": {
    "name": "ipython",
    "version": 3
   },
   "file_extension": ".py",
   "mimetype": "text/x-python",
   "name": "python",
   "nbconvert_exporter": "python",
   "pygments_lexer": "ipython3",
   "version": "3.13.7"
  }
 },
 "nbformat": 4,
 "nbformat_minor": 4
}
